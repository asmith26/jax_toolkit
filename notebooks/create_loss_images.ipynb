{
 "cells": [
  {
   "cell_type": "code",
   "execution_count": null,
   "metadata": {},
   "outputs": [],
   "source": [
    "from typing import Callable\n",
    "\n",
    "import hvplot.pandas\n",
    "import jax.numpy as jnp\n",
    "import pandas as pd\n",
    "\n",
    "from jax_toolkit.losses.classification import log_loss, sigmoid_focal_crossentropy, squared_hinge"
   ]
  },
  {
   "cell_type": "markdown",
   "metadata": {},
   "source": [
    "# functions_0to1"
   ]
  },
  {
   "cell_type": "code",
   "execution_count": null,
   "metadata": {},
   "outputs": [],
   "source": [
    "functions_0to1 = {\n",
    "    \"log_loss\": log_loss,\n",
    "    \"sigmoid_focal_crossentropy\": sigmoid_focal_crossentropy,\n",
    "}"
   ]
  },
  {
   "cell_type": "code",
   "execution_count": null,
   "metadata": {
    "scrolled": true
   },
   "outputs": [],
   "source": [
    "# y_preds = jnp.linspace(start=-1, stop=2, num=1000)\n",
    "y_preds = list(jnp.linspace(start=0, stop=1, num=1000))\n",
    "\n",
    "y_true0 = {}\n",
    "y_true1 = {}\n",
    "for function_name, function in functions_0to1.items():\n",
    "    y_true0[function_name] = [float(function(y_true=jnp.array([0.]), y_pred=jnp.array([y_pred]))) for y_pred in y_preds]\n",
    "    y_true1[function_name] = [float(function(y_true=jnp.array([1.]), y_pred=jnp.array([y_pred]))) for y_pred in y_preds]"
   ]
  },
  {
   "cell_type": "code",
   "execution_count": null,
   "metadata": {
    "scrolled": true
   },
   "outputs": [],
   "source": [
    "df_y_true0 = pd.DataFrame({\n",
    "    \"y_pred\": y_preds,\n",
    "    \"log_loss\": y_true0[\"log_loss\"],\n",
    "    \"sigmoid_focal_crossentropy\":  y_true0[\"sigmoid_focal_crossentropy\"],\n",
    "})\n",
    "\n",
    "df_y_true0.hvplot.line(x=\"y_pred\", y=[\"log_loss\", \"sigmoid_focal_crossentropy\"],\n",
    "                       ylabel=\"loss value\").opts(title=\"Comparing loss functions when y_true=0\")"
   ]
  },
  {
   "cell_type": "code",
   "execution_count": null,
   "metadata": {
    "scrolled": true
   },
   "outputs": [],
   "source": [
    "df_y_true1 = pd.DataFrame({\n",
    "    \"y_pred\": y_preds,\n",
    "    \"log_loss\": y_true1[\"log_loss\"],\n",
    "    \"sigmoid_focal_crossentropy\":  y_true1[\"sigmoid_focal_crossentropy\"],\n",
    "})\n",
    "\n",
    "df_y_true1.hvplot.line(x=\"y_pred\", y=[\"log_loss\", \"sigmoid_focal_crossentropy\"],\n",
    "                       ylabel=\"loss value\").opts(title=\"Comparing loss functions when y_true=1\")"
   ]
  },
  {
   "cell_type": "markdown",
   "metadata": {},
   "source": [
    "# Single loss functions"
   ]
  },
  {
   "cell_type": "markdown",
   "metadata": {},
   "source": [
    "## loss_log"
   ]
  },
  {
   "cell_type": "code",
   "execution_count": null,
   "metadata": {},
   "outputs": [],
   "source": [
    "from jax_toolkit.losses.classification import log_loss\n",
    "\n",
    "y_preds = list(jnp.linspace(start=0, stop=1, num=1000))\n",
    "\n",
    "y_true0 = [float(log_loss(y_true=jnp.array([0.]), y_pred=jnp.array([y_pred]))) for y_pred in y_preds]\n",
    "y_true1 = [float(log_loss(y_true=jnp.array([1.]), y_pred=jnp.array([y_pred]))) for y_pred in y_preds]\n",
    "    \n",
    "df = pd.DataFrame({\n",
    "    \"y_pred\": y_preds,\n",
    "    \"y_true=0\": y_true0,\n",
    "    \"y_true=1\": y_true1,\n",
    "})\n",
    "\n",
    "df.hvplot.line(x=\"y_pred\", y=[\"y_true=0\", \"y_true=1\"],\n",
    "               ylabel=\"loss value\").opts(title=\"log_loss\")"
   ]
  },
  {
   "cell_type": "markdown",
   "metadata": {},
   "source": [
    "## sigmoid_focal_crossentropy"
   ]
  },
  {
   "cell_type": "code",
   "execution_count": null,
   "metadata": {},
   "outputs": [],
   "source": [
    "from jax_toolkit.losses.classification import sigmoid_focal_crossentropy\n",
    "\n",
    "# y_preds = jnp.linspace(start=-1, stop=2, num=1000)\n",
    "y_preds = list(jnp.linspace(start=0, stop=1, num=1000))\n",
    "\n",
    "y_true0 = [float(sigmoid_focal_crossentropy(y_true=jnp.array([0.]), y_pred=jnp.array([y_pred]))) for y_pred in y_preds]\n",
    "y_true1 = [float(sigmoid_focal_crossentropy(y_true=jnp.array([1.]), y_pred=jnp.array([y_pred]))) for y_pred in y_preds]\n",
    "    \n",
    "df = pd.DataFrame({\n",
    "    \"y_pred\": y_preds,\n",
    "    \"y_true=0\": y_true0,\n",
    "    \"y_true=1\": y_true1,\n",
    "})\n",
    "\n",
    "df.hvplot.line(x=\"y_pred\", y=[\"y_true=0\", \"y_true=1\"],\n",
    "               ylabel=\"loss value\").opts(title=\"sigmoid_focal_crossentropy\")"
   ]
  },
  {
   "cell_type": "markdown",
   "metadata": {},
   "source": [
    "## squared_hinge"
   ]
  },
  {
   "cell_type": "code",
   "execution_count": null,
   "metadata": {
    "scrolled": true
   },
   "outputs": [],
   "source": [
    "from jax_toolkit.losses.classification import squared_hinge\n",
    "\n",
    "# y_preds = jnp.linspace(start=-1, stop=2, num=1000)\n",
    "y_preds = list(jnp.linspace(start=-2, stop=2, num=1000))\n",
    "\n",
    "y_true0 = [float(squared_hinge(y_true=jnp.array([-1.]), y_pred=jnp.array([y_pred]))) for y_pred in y_preds]\n",
    "y_true1 = [float(squared_hinge(y_true=jnp.array([1.]), y_pred=jnp.array([y_pred]))) for y_pred in y_preds]\n",
    "    \n",
    "df = pd.DataFrame({\n",
    "    \"y_pred\": y_preds,\n",
    "    \"y_true=-1\": y_true0,\n",
    "    \"y_true=1\": y_true1,\n",
    "})\n",
    "\n",
    "df.hvplot.line(x=\"y_pred\", y=[\"y_true=-1\", \"y_true=1\"],\n",
    "               ylabel=\"loss value\").opts(title=\"squared_hinge\")"
   ]
  }
 ],
 "metadata": {
  "kernelspec": {
   "display_name": "Python 3",
   "language": "python",
   "name": "python3"
  },
  "language_info": {
   "codemirror_mode": {
    "name": "ipython",
    "version": 3
   },
   "file_extension": ".py",
   "mimetype": "text/x-python",
   "name": "python",
   "nbconvert_exporter": "python",
   "pygments_lexer": "ipython3",
   "version": "3.8.3"
  }
 },
 "nbformat": 4,
 "nbformat_minor": 4
}
